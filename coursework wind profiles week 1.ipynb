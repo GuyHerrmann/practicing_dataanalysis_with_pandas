{
 "cells": [
  {
   "cell_type": "code",
   "execution_count": 27,
   "metadata": {},
   "outputs": [],
   "source": [
    "import matplotlib.pyplot as plt\n",
    "import pandas as pd\n",
    "import os\n",
    "import sys\n",
    "import numpy as np"
   ]
  },
  {
   "cell_type": "code",
   "execution_count": 6,
   "metadata": {},
   "outputs": [
    {
     "name": "stdout",
     "output_type": "stream",
     "text": [
      "Defaulting to user installation because normal site-packages is not writeable\n",
      "Requirement already satisfied: pandas in /home/guyh/.local/lib/python3.8/site-packages (1.0.3)\n",
      "Requirement already satisfied: pytz>=2017.2 in /usr/lib/python3/dist-packages (from pandas) (2019.3)\n",
      "Requirement already satisfied: python-dateutil>=2.6.1 in /usr/lib/python3/dist-packages (from pandas) (2.8.1)\n",
      "Requirement already satisfied: numpy>=1.13.3 in /usr/lib/python3/dist-packages (from pandas) (1.17.4)\n",
      "Defaulting to user installation because normal site-packages is not writeable\n",
      "Collecting xlrd\n",
      "  Using cached xlrd-1.2.0-py2.py3-none-any.whl (103 kB)\n",
      "Installing collected packages: xlrd\n",
      "Successfully installed xlrd-1.2.0\n"
     ]
    }
   ],
   "source": [
    "! pip3 install pandas\n",
    "! pip3 install xlrd"
   ]
  },
  {
   "cell_type": "code",
   "execution_count": 7,
   "metadata": {},
   "outputs": [],
   "source": [
    "df = pd.read_excel('windprofiles.xls')"
   ]
  },
  {
   "cell_type": "code",
   "execution_count": 11,
   "metadata": {},
   "outputs": [
    {
     "data": {
      "text/html": [
       "<div>\n",
       "<style scoped>\n",
       "    .dataframe tbody tr th:only-of-type {\n",
       "        vertical-align: middle;\n",
       "    }\n",
       "\n",
       "    .dataframe tbody tr th {\n",
       "        vertical-align: top;\n",
       "    }\n",
       "\n",
       "    .dataframe thead th {\n",
       "        text-align: right;\n",
       "    }\n",
       "</style>\n",
       "<table border=\"1\" class=\"dataframe\">\n",
       "  <thead>\n",
       "    <tr style=\"text-align: right;\">\n",
       "      <th></th>\n",
       "      <th>time (hour)</th>\n",
       "      <th>u10 (m/s)</th>\n",
       "      <th>u40 (m/s)</th>\n",
       "      <th>u60 (m/s)</th>\n",
       "      <th>u80 (m/s)</th>\n",
       "      <th>u100 (m/s)</th>\n",
       "      <th>u116 (Um/s)</th>\n",
       "      <th>u160 (m/s)</th>\n",
       "      <th>dir10</th>\n",
       "      <th>dir60</th>\n",
       "      <th>dir100</th>\n",
       "      <th>Unnamed: 11</th>\n",
       "      <th>Unnamed: 12</th>\n",
       "      <th>time decimal hours</th>\n",
       "      <th>Unnamed: 14</th>\n",
       "      <th>Unnamed: 15</th>\n",
       "    </tr>\n",
       "  </thead>\n",
       "  <tbody>\n",
       "    <tr>\n",
       "      <th>0</th>\n",
       "      <td>00:00:00</td>\n",
       "      <td>4.25636</td>\n",
       "      <td>7.18414</td>\n",
       "      <td>8.56345</td>\n",
       "      <td>9.75567</td>\n",
       "      <td>10.9667</td>\n",
       "      <td>12.1298</td>\n",
       "      <td>13.8083</td>\n",
       "      <td>110.616</td>\n",
       "      <td>131.652</td>\n",
       "      <td>141.809</td>\n",
       "      <td>NaN</td>\n",
       "      <td>NaN</td>\n",
       "      <td>0.000000</td>\n",
       "      <td>NaN</td>\n",
       "      <td>midnight</td>\n",
       "    </tr>\n",
       "    <tr>\n",
       "      <th>1</th>\n",
       "      <td>00:10:00</td>\n",
       "      <td>4.54607</td>\n",
       "      <td>7.40763</td>\n",
       "      <td>8.62832</td>\n",
       "      <td>9.91782</td>\n",
       "      <td>11.2024</td>\n",
       "      <td>12.2694</td>\n",
       "      <td>14.1229</td>\n",
       "      <td>114.551</td>\n",
       "      <td>133.624</td>\n",
       "      <td>142.565</td>\n",
       "      <td>NaN</td>\n",
       "      <td>NaN</td>\n",
       "      <td>0.166667</td>\n",
       "      <td>NaN</td>\n",
       "      <td>NaN</td>\n",
       "    </tr>\n",
       "    <tr>\n",
       "      <th>2</th>\n",
       "      <td>00:20:00</td>\n",
       "      <td>4.48597</td>\n",
       "      <td>6.90398</td>\n",
       "      <td>8.06806</td>\n",
       "      <td>9.54922</td>\n",
       "      <td>10.9354</td>\n",
       "      <td>12.0622</td>\n",
       "      <td>14.1083</td>\n",
       "      <td>114.343</td>\n",
       "      <td>135.404</td>\n",
       "      <td>142.934</td>\n",
       "      <td>NaN</td>\n",
       "      <td>NaN</td>\n",
       "      <td>0.333333</td>\n",
       "      <td>NaN</td>\n",
       "      <td>NaN</td>\n",
       "    </tr>\n",
       "    <tr>\n",
       "      <th>3</th>\n",
       "      <td>00:30:00</td>\n",
       "      <td>4.29970</td>\n",
       "      <td>6.78310</td>\n",
       "      <td>8.18141</td>\n",
       "      <td>9.64565</td>\n",
       "      <td>10.9862</td>\n",
       "      <td>12.0684</td>\n",
       "      <td>13.8210</td>\n",
       "      <td>114.325</td>\n",
       "      <td>135.272</td>\n",
       "      <td>143.951</td>\n",
       "      <td>NaN</td>\n",
       "      <td>NaN</td>\n",
       "      <td>0.500000</td>\n",
       "      <td>NaN</td>\n",
       "      <td>NaN</td>\n",
       "    </tr>\n",
       "    <tr>\n",
       "      <th>4</th>\n",
       "      <td>00:40:00</td>\n",
       "      <td>4.32460</td>\n",
       "      <td>6.78405</td>\n",
       "      <td>8.07585</td>\n",
       "      <td>9.48084</td>\n",
       "      <td>10.7186</td>\n",
       "      <td>11.7632</td>\n",
       "      <td>13.6223</td>\n",
       "      <td>112.893</td>\n",
       "      <td>133.654</td>\n",
       "      <td>141.589</td>\n",
       "      <td>NaN</td>\n",
       "      <td>NaN</td>\n",
       "      <td>0.666667</td>\n",
       "      <td>NaN</td>\n",
       "      <td>NaN</td>\n",
       "    </tr>\n",
       "  </tbody>\n",
       "</table>\n",
       "</div>"
      ],
      "text/plain": [
       "  time (hour)  u10 (m/s)  u40 (m/s)  u60 (m/s)  u80 (m/s)  u100 (m/s)  \\\n",
       "0    00:00:00    4.25636    7.18414    8.56345    9.75567     10.9667   \n",
       "1    00:10:00    4.54607    7.40763    8.62832    9.91782     11.2024   \n",
       "2    00:20:00    4.48597    6.90398    8.06806    9.54922     10.9354   \n",
       "3    00:30:00    4.29970    6.78310    8.18141    9.64565     10.9862   \n",
       "4    00:40:00    4.32460    6.78405    8.07585    9.48084     10.7186   \n",
       "\n",
       "   u116 (Um/s)  u160 (m/s)    dir10    dir60   dir100  Unnamed: 11  \\\n",
       "0      12.1298     13.8083  110.616  131.652  141.809          NaN   \n",
       "1      12.2694     14.1229  114.551  133.624  142.565          NaN   \n",
       "2      12.0622     14.1083  114.343  135.404  142.934          NaN   \n",
       "3      12.0684     13.8210  114.325  135.272  143.951          NaN   \n",
       "4      11.7632     13.6223  112.893  133.654  141.589          NaN   \n",
       "\n",
       "   Unnamed: 12  time decimal hours  Unnamed: 14 Unnamed: 15  \n",
       "0          NaN            0.000000          NaN    midnight  \n",
       "1          NaN            0.166667          NaN         NaN  \n",
       "2          NaN            0.333333          NaN         NaN  \n",
       "3          NaN            0.500000          NaN         NaN  \n",
       "4          NaN            0.666667          NaN         NaN  "
      ]
     },
     "execution_count": 11,
     "metadata": {},
     "output_type": "execute_result"
    }
   ],
   "source": [
    "df.head()"
   ]
  },
  {
   "cell_type": "code",
   "execution_count": 13,
   "metadata": {},
   "outputs": [],
   "source": [
    "#remove unwanted columns\n",
    "delete = [11, 12, 14, 15]\n",
    "for col in delete:\n",
    "    string = 'Unnamed: {}'.format(col)\n",
    "    del df[string]\n",
    "    "
   ]
  },
  {
   "cell_type": "code",
   "execution_count": 14,
   "metadata": {},
   "outputs": [
    {
     "data": {
      "text/html": [
       "<div>\n",
       "<style scoped>\n",
       "    .dataframe tbody tr th:only-of-type {\n",
       "        vertical-align: middle;\n",
       "    }\n",
       "\n",
       "    .dataframe tbody tr th {\n",
       "        vertical-align: top;\n",
       "    }\n",
       "\n",
       "    .dataframe thead th {\n",
       "        text-align: right;\n",
       "    }\n",
       "</style>\n",
       "<table border=\"1\" class=\"dataframe\">\n",
       "  <thead>\n",
       "    <tr style=\"text-align: right;\">\n",
       "      <th></th>\n",
       "      <th>time (hour)</th>\n",
       "      <th>u10 (m/s)</th>\n",
       "      <th>u40 (m/s)</th>\n",
       "      <th>u60 (m/s)</th>\n",
       "      <th>u80 (m/s)</th>\n",
       "      <th>u100 (m/s)</th>\n",
       "      <th>u116 (Um/s)</th>\n",
       "      <th>u160 (m/s)</th>\n",
       "      <th>dir10</th>\n",
       "      <th>dir60</th>\n",
       "      <th>dir100</th>\n",
       "      <th>time decimal hours</th>\n",
       "    </tr>\n",
       "  </thead>\n",
       "  <tbody>\n",
       "    <tr>\n",
       "      <th>0</th>\n",
       "      <td>00:00:00</td>\n",
       "      <td>4.25636</td>\n",
       "      <td>7.18414</td>\n",
       "      <td>8.56345</td>\n",
       "      <td>9.75567</td>\n",
       "      <td>10.9667</td>\n",
       "      <td>12.1298</td>\n",
       "      <td>13.8083</td>\n",
       "      <td>110.616</td>\n",
       "      <td>131.652</td>\n",
       "      <td>141.809</td>\n",
       "      <td>0.000000</td>\n",
       "    </tr>\n",
       "    <tr>\n",
       "      <th>1</th>\n",
       "      <td>00:10:00</td>\n",
       "      <td>4.54607</td>\n",
       "      <td>7.40763</td>\n",
       "      <td>8.62832</td>\n",
       "      <td>9.91782</td>\n",
       "      <td>11.2024</td>\n",
       "      <td>12.2694</td>\n",
       "      <td>14.1229</td>\n",
       "      <td>114.551</td>\n",
       "      <td>133.624</td>\n",
       "      <td>142.565</td>\n",
       "      <td>0.166667</td>\n",
       "    </tr>\n",
       "    <tr>\n",
       "      <th>2</th>\n",
       "      <td>00:20:00</td>\n",
       "      <td>4.48597</td>\n",
       "      <td>6.90398</td>\n",
       "      <td>8.06806</td>\n",
       "      <td>9.54922</td>\n",
       "      <td>10.9354</td>\n",
       "      <td>12.0622</td>\n",
       "      <td>14.1083</td>\n",
       "      <td>114.343</td>\n",
       "      <td>135.404</td>\n",
       "      <td>142.934</td>\n",
       "      <td>0.333333</td>\n",
       "    </tr>\n",
       "    <tr>\n",
       "      <th>3</th>\n",
       "      <td>00:30:00</td>\n",
       "      <td>4.29970</td>\n",
       "      <td>6.78310</td>\n",
       "      <td>8.18141</td>\n",
       "      <td>9.64565</td>\n",
       "      <td>10.9862</td>\n",
       "      <td>12.0684</td>\n",
       "      <td>13.8210</td>\n",
       "      <td>114.325</td>\n",
       "      <td>135.272</td>\n",
       "      <td>143.951</td>\n",
       "      <td>0.500000</td>\n",
       "    </tr>\n",
       "    <tr>\n",
       "      <th>4</th>\n",
       "      <td>00:40:00</td>\n",
       "      <td>4.32460</td>\n",
       "      <td>6.78405</td>\n",
       "      <td>8.07585</td>\n",
       "      <td>9.48084</td>\n",
       "      <td>10.7186</td>\n",
       "      <td>11.7632</td>\n",
       "      <td>13.6223</td>\n",
       "      <td>112.893</td>\n",
       "      <td>133.654</td>\n",
       "      <td>141.589</td>\n",
       "      <td>0.666667</td>\n",
       "    </tr>\n",
       "  </tbody>\n",
       "</table>\n",
       "</div>"
      ],
      "text/plain": [
       "  time (hour)  u10 (m/s)  u40 (m/s)  u60 (m/s)  u80 (m/s)  u100 (m/s)  \\\n",
       "0    00:00:00    4.25636    7.18414    8.56345    9.75567     10.9667   \n",
       "1    00:10:00    4.54607    7.40763    8.62832    9.91782     11.2024   \n",
       "2    00:20:00    4.48597    6.90398    8.06806    9.54922     10.9354   \n",
       "3    00:30:00    4.29970    6.78310    8.18141    9.64565     10.9862   \n",
       "4    00:40:00    4.32460    6.78405    8.07585    9.48084     10.7186   \n",
       "\n",
       "   u116 (Um/s)  u160 (m/s)    dir10    dir60   dir100  time decimal hours  \n",
       "0      12.1298     13.8083  110.616  131.652  141.809            0.000000  \n",
       "1      12.2694     14.1229  114.551  133.624  142.565            0.166667  \n",
       "2      12.0622     14.1083  114.343  135.404  142.934            0.333333  \n",
       "3      12.0684     13.8210  114.325  135.272  143.951            0.500000  \n",
       "4      11.7632     13.6223  112.893  133.654  141.589            0.666667  "
      ]
     },
     "execution_count": 14,
     "metadata": {},
     "output_type": "execute_result"
    }
   ],
   "source": [
    "df.head()"
   ]
  },
  {
   "cell_type": "code",
   "execution_count": 23,
   "metadata": {},
   "outputs": [
    {
     "name": "stdout",
     "output_type": "stream",
     "text": [
      "<class 'pandas.core.frame.DataFrame'>\n",
      "RangeIndex: 109 entries, 0 to 108\n",
      "Data columns (total 12 columns):\n",
      " #   Column              Non-Null Count  Dtype  \n",
      "---  ------              --------------  -----  \n",
      " 0   time (hour)         109 non-null    object \n",
      " 1   u10 (m/s)           109 non-null    float64\n",
      " 2   u40 (m/s)           109 non-null    float64\n",
      " 3   u60 (m/s)           109 non-null    float64\n",
      " 4   u80 (m/s)           109 non-null    float64\n",
      " 5   u100 (m/s)          109 non-null    float64\n",
      " 6   u116 (Um/s)         109 non-null    float64\n",
      " 7   u160 (m/s)          109 non-null    float64\n",
      " 8   dir10               109 non-null    float64\n",
      " 9   dir60               109 non-null    float64\n",
      " 10  dir100              109 non-null    float64\n",
      " 11  time decimal hours  109 non-null    float64\n",
      "dtypes: float64(11), object(1)\n",
      "memory usage: 10.3+ KB\n"
     ]
    }
   ],
   "source": [
    "df.info()"
   ]
  },
  {
   "cell_type": "code",
   "execution_count": 26,
   "metadata": {},
   "outputs": [
    {
     "data": {
      "text/plain": [
       "datetime.time(0, 20)"
      ]
     },
     "execution_count": 26,
     "metadata": {},
     "output_type": "execute_result"
    }
   ],
   "source": [
    "df['time (hour)'].loc[2]"
   ]
  },
  {
   "cell_type": "code",
   "execution_count": 30,
   "metadata": {},
   "outputs": [],
   "source": [
    "K=0.4"
   ]
  },
  {
   "cell_type": "code",
   "execution_count": 33,
   "metadata": {},
   "outputs": [],
   "source": [
    "def neutral_speed (u, z, z0):\n",
    "    return (u/K)*np.log(z/z0)"
   ]
  },
  {
   "cell_type": "code",
   "execution_count": 44,
   "metadata": {},
   "outputs": [],
   "source": [
    "def speed(u,z,zo,st):\n",
    "    return (u/K)*np.log(z/z0)-st"
   ]
  },
  {
   "cell_type": "code",
   "execution_count": 34,
   "metadata": {},
   "outputs": [],
   "source": [
    "def fric(z, z0, u):\n",
    "    return (u*K)/(np.log(z/z0))"
   ]
  },
  {
   "cell_type": "code",
   "execution_count": 45,
   "metadata": {},
   "outputs": [],
   "source": [
    "def st(U, z, z0, u_):\n",
    "    return neutral_speed(u_, z, z0)-U"
   ]
  },
  {
   "cell_type": "code",
   "execution_count": 35,
   "metadata": {},
   "outputs": [
    {
     "data": {
      "text/plain": [
       "1.737177927613007"
      ]
     },
     "execution_count": 35,
     "metadata": {},
     "output_type": "execute_result"
    }
   ],
   "source": [
    "fric(10, 0.1, 20)"
   ]
  },
  {
   "cell_type": "code",
   "execution_count": 36,
   "metadata": {},
   "outputs": [],
   "source": [
    "Z0 = 0.03"
   ]
  },
  {
   "cell_type": "code",
   "execution_count": 38,
   "metadata": {},
   "outputs": [
    {
     "data": {
      "text/html": [
       "<div>\n",
       "<style scoped>\n",
       "    .dataframe tbody tr th:only-of-type {\n",
       "        vertical-align: middle;\n",
       "    }\n",
       "\n",
       "    .dataframe tbody tr th {\n",
       "        vertical-align: top;\n",
       "    }\n",
       "\n",
       "    .dataframe thead th {\n",
       "        text-align: right;\n",
       "    }\n",
       "</style>\n",
       "<table border=\"1\" class=\"dataframe\">\n",
       "  <thead>\n",
       "    <tr style=\"text-align: right;\">\n",
       "      <th></th>\n",
       "      <th>time (hour)</th>\n",
       "      <th>u10 (m/s)</th>\n",
       "      <th>u40 (m/s)</th>\n",
       "      <th>u60 (m/s)</th>\n",
       "      <th>u80 (m/s)</th>\n",
       "      <th>u100 (m/s)</th>\n",
       "      <th>u116 (Um/s)</th>\n",
       "      <th>u160 (m/s)</th>\n",
       "      <th>dir10</th>\n",
       "      <th>dir60</th>\n",
       "      <th>dir100</th>\n",
       "      <th>time decimal hours</th>\n",
       "    </tr>\n",
       "  </thead>\n",
       "  <tbody>\n",
       "    <tr>\n",
       "      <th>0</th>\n",
       "      <td>00:00:00</td>\n",
       "      <td>4.25636</td>\n",
       "      <td>7.18414</td>\n",
       "      <td>8.56345</td>\n",
       "      <td>9.75567</td>\n",
       "      <td>10.9667</td>\n",
       "      <td>12.1298</td>\n",
       "      <td>13.8083</td>\n",
       "      <td>110.616</td>\n",
       "      <td>131.652</td>\n",
       "      <td>141.809</td>\n",
       "      <td>0.000000</td>\n",
       "    </tr>\n",
       "    <tr>\n",
       "      <th>1</th>\n",
       "      <td>00:10:00</td>\n",
       "      <td>4.54607</td>\n",
       "      <td>7.40763</td>\n",
       "      <td>8.62832</td>\n",
       "      <td>9.91782</td>\n",
       "      <td>11.2024</td>\n",
       "      <td>12.2694</td>\n",
       "      <td>14.1229</td>\n",
       "      <td>114.551</td>\n",
       "      <td>133.624</td>\n",
       "      <td>142.565</td>\n",
       "      <td>0.166667</td>\n",
       "    </tr>\n",
       "    <tr>\n",
       "      <th>2</th>\n",
       "      <td>00:20:00</td>\n",
       "      <td>4.48597</td>\n",
       "      <td>6.90398</td>\n",
       "      <td>8.06806</td>\n",
       "      <td>9.54922</td>\n",
       "      <td>10.9354</td>\n",
       "      <td>12.0622</td>\n",
       "      <td>14.1083</td>\n",
       "      <td>114.343</td>\n",
       "      <td>135.404</td>\n",
       "      <td>142.934</td>\n",
       "      <td>0.333333</td>\n",
       "    </tr>\n",
       "    <tr>\n",
       "      <th>3</th>\n",
       "      <td>00:30:00</td>\n",
       "      <td>4.29970</td>\n",
       "      <td>6.78310</td>\n",
       "      <td>8.18141</td>\n",
       "      <td>9.64565</td>\n",
       "      <td>10.9862</td>\n",
       "      <td>12.0684</td>\n",
       "      <td>13.8210</td>\n",
       "      <td>114.325</td>\n",
       "      <td>135.272</td>\n",
       "      <td>143.951</td>\n",
       "      <td>0.500000</td>\n",
       "    </tr>\n",
       "    <tr>\n",
       "      <th>4</th>\n",
       "      <td>00:40:00</td>\n",
       "      <td>4.32460</td>\n",
       "      <td>6.78405</td>\n",
       "      <td>8.07585</td>\n",
       "      <td>9.48084</td>\n",
       "      <td>10.7186</td>\n",
       "      <td>11.7632</td>\n",
       "      <td>13.6223</td>\n",
       "      <td>112.893</td>\n",
       "      <td>133.654</td>\n",
       "      <td>141.589</td>\n",
       "      <td>0.666667</td>\n",
       "    </tr>\n",
       "  </tbody>\n",
       "</table>\n",
       "</div>"
      ],
      "text/plain": [
       "  time (hour)  u10 (m/s)  u40 (m/s)  u60 (m/s)  u80 (m/s)  u100 (m/s)  \\\n",
       "0    00:00:00    4.25636    7.18414    8.56345    9.75567     10.9667   \n",
       "1    00:10:00    4.54607    7.40763    8.62832    9.91782     11.2024   \n",
       "2    00:20:00    4.48597    6.90398    8.06806    9.54922     10.9354   \n",
       "3    00:30:00    4.29970    6.78310    8.18141    9.64565     10.9862   \n",
       "4    00:40:00    4.32460    6.78405    8.07585    9.48084     10.7186   \n",
       "\n",
       "   u116 (Um/s)  u160 (m/s)    dir10    dir60   dir100  time decimal hours  \n",
       "0      12.1298     13.8083  110.616  131.652  141.809            0.000000  \n",
       "1      12.2694     14.1229  114.551  133.624  142.565            0.166667  \n",
       "2      12.0622     14.1083  114.343  135.404  142.934            0.333333  \n",
       "3      12.0684     13.8210  114.325  135.272  143.951            0.500000  \n",
       "4      11.7632     13.6223  112.893  133.654  141.589            0.666667  "
      ]
     },
     "execution_count": 38,
     "metadata": {},
     "output_type": "execute_result"
    }
   ],
   "source": [
    "df.head()"
   ]
  },
  {
   "cell_type": "code",
   "execution_count": 39,
   "metadata": {},
   "outputs": [],
   "source": [
    "df['u* variation 10m'] = df['u10 (m/s)'].map(lambda x: fric(10, Z0, x))"
   ]
  },
  {
   "cell_type": "code",
   "execution_count": 40,
   "metadata": {},
   "outputs": [
    {
     "data": {
      "text/html": [
       "<div>\n",
       "<style scoped>\n",
       "    .dataframe tbody tr th:only-of-type {\n",
       "        vertical-align: middle;\n",
       "    }\n",
       "\n",
       "    .dataframe tbody tr th {\n",
       "        vertical-align: top;\n",
       "    }\n",
       "\n",
       "    .dataframe thead th {\n",
       "        text-align: right;\n",
       "    }\n",
       "</style>\n",
       "<table border=\"1\" class=\"dataframe\">\n",
       "  <thead>\n",
       "    <tr style=\"text-align: right;\">\n",
       "      <th></th>\n",
       "      <th>time (hour)</th>\n",
       "      <th>u10 (m/s)</th>\n",
       "      <th>u40 (m/s)</th>\n",
       "      <th>u60 (m/s)</th>\n",
       "      <th>u80 (m/s)</th>\n",
       "      <th>u100 (m/s)</th>\n",
       "      <th>u116 (Um/s)</th>\n",
       "      <th>u160 (m/s)</th>\n",
       "      <th>dir10</th>\n",
       "      <th>dir60</th>\n",
       "      <th>dir100</th>\n",
       "      <th>time decimal hours</th>\n",
       "      <th>u* variation 10m</th>\n",
       "    </tr>\n",
       "  </thead>\n",
       "  <tbody>\n",
       "    <tr>\n",
       "      <th>0</th>\n",
       "      <td>00:00:00</td>\n",
       "      <td>4.25636</td>\n",
       "      <td>7.18414</td>\n",
       "      <td>8.56345</td>\n",
       "      <td>9.75567</td>\n",
       "      <td>10.9667</td>\n",
       "      <td>12.1298</td>\n",
       "      <td>13.8083</td>\n",
       "      <td>110.616</td>\n",
       "      <td>131.652</td>\n",
       "      <td>141.809</td>\n",
       "      <td>0.000000</td>\n",
       "      <td>0.293080</td>\n",
       "    </tr>\n",
       "    <tr>\n",
       "      <th>1</th>\n",
       "      <td>00:10:00</td>\n",
       "      <td>4.54607</td>\n",
       "      <td>7.40763</td>\n",
       "      <td>8.62832</td>\n",
       "      <td>9.91782</td>\n",
       "      <td>11.2024</td>\n",
       "      <td>12.2694</td>\n",
       "      <td>14.1229</td>\n",
       "      <td>114.551</td>\n",
       "      <td>133.624</td>\n",
       "      <td>142.565</td>\n",
       "      <td>0.166667</td>\n",
       "      <td>0.313029</td>\n",
       "    </tr>\n",
       "    <tr>\n",
       "      <th>2</th>\n",
       "      <td>00:20:00</td>\n",
       "      <td>4.48597</td>\n",
       "      <td>6.90398</td>\n",
       "      <td>8.06806</td>\n",
       "      <td>9.54922</td>\n",
       "      <td>10.9354</td>\n",
       "      <td>12.0622</td>\n",
       "      <td>14.1083</td>\n",
       "      <td>114.343</td>\n",
       "      <td>135.404</td>\n",
       "      <td>142.934</td>\n",
       "      <td>0.333333</td>\n",
       "      <td>0.308890</td>\n",
       "    </tr>\n",
       "    <tr>\n",
       "      <th>3</th>\n",
       "      <td>00:30:00</td>\n",
       "      <td>4.29970</td>\n",
       "      <td>6.78310</td>\n",
       "      <td>8.18141</td>\n",
       "      <td>9.64565</td>\n",
       "      <td>10.9862</td>\n",
       "      <td>12.0684</td>\n",
       "      <td>13.8210</td>\n",
       "      <td>114.325</td>\n",
       "      <td>135.272</td>\n",
       "      <td>143.951</td>\n",
       "      <td>0.500000</td>\n",
       "      <td>0.296064</td>\n",
       "    </tr>\n",
       "    <tr>\n",
       "      <th>4</th>\n",
       "      <td>00:40:00</td>\n",
       "      <td>4.32460</td>\n",
       "      <td>6.78405</td>\n",
       "      <td>8.07585</td>\n",
       "      <td>9.48084</td>\n",
       "      <td>10.7186</td>\n",
       "      <td>11.7632</td>\n",
       "      <td>13.6223</td>\n",
       "      <td>112.893</td>\n",
       "      <td>133.654</td>\n",
       "      <td>141.589</td>\n",
       "      <td>0.666667</td>\n",
       "      <td>0.297779</td>\n",
       "    </tr>\n",
       "  </tbody>\n",
       "</table>\n",
       "</div>"
      ],
      "text/plain": [
       "  time (hour)  u10 (m/s)  u40 (m/s)  u60 (m/s)  u80 (m/s)  u100 (m/s)  \\\n",
       "0    00:00:00    4.25636    7.18414    8.56345    9.75567     10.9667   \n",
       "1    00:10:00    4.54607    7.40763    8.62832    9.91782     11.2024   \n",
       "2    00:20:00    4.48597    6.90398    8.06806    9.54922     10.9354   \n",
       "3    00:30:00    4.29970    6.78310    8.18141    9.64565     10.9862   \n",
       "4    00:40:00    4.32460    6.78405    8.07585    9.48084     10.7186   \n",
       "\n",
       "   u116 (Um/s)  u160 (m/s)    dir10    dir60   dir100  time decimal hours  \\\n",
       "0      12.1298     13.8083  110.616  131.652  141.809            0.000000   \n",
       "1      12.2694     14.1229  114.551  133.624  142.565            0.166667   \n",
       "2      12.0622     14.1083  114.343  135.404  142.934            0.333333   \n",
       "3      12.0684     13.8210  114.325  135.272  143.951            0.500000   \n",
       "4      11.7632     13.6223  112.893  133.654  141.589            0.666667   \n",
       "\n",
       "   u* variation 10m  \n",
       "0          0.293080  \n",
       "1          0.313029  \n",
       "2          0.308890  \n",
       "3          0.296064  \n",
       "4          0.297779  "
      ]
     },
     "execution_count": 40,
     "metadata": {},
     "output_type": "execute_result"
    }
   ],
   "source": [
    "df.head()"
   ]
  },
  {
   "cell_type": "code",
   "execution_count": 43,
   "metadata": {},
   "outputs": [
    {
     "data": {
      "text/plain": [
       "Text(0, 0.5, 'u*')"
      ]
     },
     "execution_count": 43,
     "metadata": {},
     "output_type": "execute_result"
    },
    {
     "data": {
      "image/png": "[encoded data removed]",
      "text/plain": [
       "<Figure size 432x288 with 1 Axes>"
      ]
     },
     "metadata": {
      "needs_background": "light"
     },
     "output_type": "display_data"
    }
   ],
   "source": [
    "plt.plot(df['time decimal hours'], df['u* variation 10m'])\n",
    "plt.xlabel('time')\n",
    "plt.ylabel('u*')"
   ]
  },
  {
   "cell_type": "code",
   "execution_count": 46,
   "metadata": {},
   "outputs": [],
   "source": [
    "df['st 60m'] = st(df['u60 (m/s)'],60, Z0, df['u* variation 10m'])"
   ]
  },
  {
   "cell_type": "code",
   "execution_count": 47,
   "metadata": {},
   "outputs": [
    {
     "data": {
      "text/plain": [
       "Text(0.5, 1.0, 'stability correction factor with respect to day time')"
      ]
     },
     "execution_count": 47,
     "metadata": {},
     "output_type": "execute_result"
    },
    {
     "data": {
      "image/png": "[encoded data removed]",
      "text/plain": [
       "<Figure size 432x288 with 1 Axes>"
      ]
     },
     "metadata": {
      "needs_background": "light"
     },
     "output_type": "display_data"
    }
   ],
   "source": [
    "plt.plot(df['time decimal hours'], df['st 60m'])\n",
    "plt.xlabel('time')\n",
    "plt.ylabel('stability correction factor')\n",
    "plt.title('stability correction factor with respect to day time')"
   ]
  },
  {
   "cell_type": "code",
   "execution_count": 50,
   "metadata": {},
   "outputs": [
    {
     "data": {
      "text/plain": [
       "0      110.616\n",
       "1      114.551\n",
       "2      114.343\n",
       "3      114.325\n",
       "4      112.893\n",
       "        ...   \n",
       "104    130.701\n",
       "105    128.364\n",
       "106    126.976\n",
       "107    124.838\n",
       "108    118.788\n",
       "Name: dir10, Length: 109, dtype: float64"
      ]
     },
     "execution_count": 50,
     "metadata": {},
     "output_type": "execute_result"
    }
   ],
   "source": [
    "df.iloc[:, 8]"
   ]
  },
  {
   "cell_type": "code",
   "execution_count": 62,
   "metadata": {},
   "outputs": [
    {
     "data": {
      "text/plain": [
       "'dir10'"
      ]
     },
     "execution_count": 62,
     "metadata": {},
     "output_type": "execute_result"
    }
   ],
   "source": [
    "df.columns[8]"
   ]
  },
  {
   "cell_type": "code",
   "execution_count": 65,
   "metadata": {},
   "outputs": [
    {
     "data": {
      "image/png": "[encoded data removed]",
      "text/plain": [
       "<Figure size 1080x432 with 3 Axes>"
      ]
     },
     "metadata": {
      "needs_background": "light"
     },
     "output_type": "display_data"
    }
   ],
   "source": [
    "fig, axs = plt.subplots(1,3, figsize=(15,6))\n",
    "axs = axs.ravel()\n",
    "\n",
    "for i in range(0,3):\n",
    "    axs[i].plot(df.loc[:, 'time decimal hours'], df.iloc[:, i+8])\n",
    "    axs[i].set_xlabel('time')\n",
    "    axs[i].set_ylabel('direction')\n",
    "    axs[i].set_title(df.columns[i+8])\n",
    "plt.show()"
   ]
  },
  {
   "cell_type": "code",
   "execution_count": 69,
   "metadata": {
    "scrolled": true
   },
   "outputs": [
    {
     "data": {
      "image/png": "[encoded data removed]",
      "text/plain": [
       "<Figure size 432x288 with 1 Axes>"
      ]
     },
     "metadata": {
      "needs_background": "light"
     },
     "output_type": "display_data"
    }
   ],
   "source": [
    "fig, axs = plt.subplots(1,1)\n",
    "colours = ['red', 'blue', 'green']\n",
    "for i, colour in zip(range(0,3), colours):\n",
    "    axs.plot(df.loc[:, 'time decimal hours'], df.iloc[:, i+8], color=colour,\n",
    "            label=df.columns[i+8])\n",
    "\n",
    "axs.set_xlabel('time')\n",
    "axs.set_ylabel('direction')\n",
    "axs.legend(loc='upper left')\n",
    "axs.title('Showing the daily variation of wind direction')\n",
    "plt.show()"
   ]
  },
  {
   "cell_type": "code",
   "execution_count": 78,
   "metadata": {},
   "outputs": [
    {
     "data": {
      "image/png": "[encoded data removed]",
      "text/plain": [
       "<Figure size 432x288 with 1 Axes>"
      ]
     },
     "metadata": {
      "needs_background": "light"
     },
     "output_type": "display_data"
    }
   ],
   "source": [
    "df['dif 100 10 dir'] = df.loc[:,'dir100']-df.loc[:,'dir10']\n",
    "plt.plot(df['time decimal hours'], df['dif 100 10 dir'])\n",
    "plt.xlabel('time')\n",
    "plt.ylabel('difference in direction')\n",
    "plt.show()"
   ]
  },
  {
   "cell_type": "code",
   "execution_count": 75,
   "metadata": {},
   "outputs": [],
   "source": [
    "def st(x1, x2):\n",
    "    return neutral_speed(x2, 60, Z0)-x1"
   ]
  },
  {
   "cell_type": "code",
   "execution_count": 79,
   "metadata": {},
   "outputs": [],
   "source": [
    "df['el 10m'] = df.loc[:,'u10 (m/s)'].map(lambda x: x**3)\n"
   ]
  },
  {
   "cell_type": "code",
   "execution_count": 82,
   "metadata": {},
   "outputs": [],
   "source": [
    "del df['el u160']\n",
    "df['el 160m'] = df.loc[:, 'u160 (m/s)'].map(lambda x: x**3)"
   ]
  },
  {
   "cell_type": "code",
   "execution_count": 91,
   "metadata": {},
   "outputs": [
    {
     "data": {
      "image/png": "[encoded data removed]",
      "text/plain": [
       "<Figure size 432x288 with 1 Axes>"
      ]
     },
     "metadata": {
      "needs_background": "light"
     },
     "output_type": "display_data"
    }
   ],
   "source": [
    "fig, axs = plt.subplots(1,1)\n",
    "colours = ['red', 'blue']\n",
    "columns = ['el 10m', 'el 160m']\n",
    "for column, colour in zip(columns, colours):\n",
    "    axs.plot(df.loc[:, 'time decimal hours'], df.loc[:, column], color=colour,\n",
    "            label=column)\n",
    "\n",
    "axs.set_xlabel('time')\n",
    "axs.set_ylabel('energy output')\n",
    "axs.legend(loc='upper left')\n",
    "axs.set_title('variation of electricity generation at 10 and 160 m')\n",
    "plt.show()"
   ]
  },
  {
   "cell_type": "code",
   "execution_count": 84,
   "metadata": {},
   "outputs": [
    {
     "ename": "ValueError",
     "evalue": "too many values to unpack (expected 2)",
     "output_type": "error",
     "traceback": [
      "\u001b[0;31m---------------------------------------------------------------------------\u001b[0m",
      "\u001b[0;31mValueError\u001b[0m                                Traceback (most recent call last)",
      "\u001b[0;32m<ipython-input-84-9e0ef2900c4f>\u001b[0m in \u001b[0;36m<module>\u001b[0;34m\u001b[0m\n\u001b[0;32m----> 1\u001b[0;31m \u001b[0;32mfor\u001b[0m \u001b[0mi\u001b[0m\u001b[0;34m,\u001b[0m \u001b[0mdata\u001b[0m \u001b[0;32min\u001b[0m \u001b[0mdf\u001b[0m\u001b[0;34m.\u001b[0m\u001b[0mloc\u001b[0m\u001b[0;34m[\u001b[0m\u001b[0;34m:\u001b[0m\u001b[0;34m,\u001b[0m \u001b[0;34m'el 10m'\u001b[0m\u001b[0;34m:\u001b[0m\u001b[0;34m'el 160m'\u001b[0m\u001b[0;34m]\u001b[0m\u001b[0;34m:\u001b[0m\u001b[0;34m\u001b[0m\u001b[0;34m\u001b[0m\u001b[0m\n\u001b[0m\u001b[1;32m      2\u001b[0m     \u001b[0mprint\u001b[0m\u001b[0;34m(\u001b[0m\u001b[0mi\u001b[0m\u001b[0;34m)\u001b[0m\u001b[0;34m\u001b[0m\u001b[0;34m\u001b[0m\u001b[0m\n\u001b[1;32m      3\u001b[0m     \u001b[0mprint\u001b[0m\u001b[0;34m(\u001b[0m\u001b[0mdata\u001b[0m\u001b[0;34m)\u001b[0m\u001b[0;34m\u001b[0m\u001b[0;34m\u001b[0m\u001b[0m\n",
      "\u001b[0;31mValueError\u001b[0m: too many values to unpack (expected 2)"
     ]
    }
   ],
   "source": [
    "for i in df.loc[:, 'el 10m':'el 160m']:\n",
    "    print(i)\n",
    "    print(data)"
   ]
  },
  {
   "cell_type": "code",
   "execution_count": 93,
   "metadata": {},
   "outputs": [
    {
     "name": "stdout",
     "output_type": "stream",
     "text": [
      "The maximum difference in energy generation is 3291.7695027056484 Watts\n"
     ]
    }
   ],
   "source": [
    "maxdif = np.abs(df['el 10m']-df['el 160m']).max()\n",
    "print('The maximum difference in energy generation is {} Watts'.format(maxdif))"
   ]
  },
  {
   "cell_type": "code",
   "execution_count": null,
   "metadata": {},
   "outputs": [],
   "source": []
  }
 ],
 "metadata": {
  "kernelspec": {
   "display_name": "Python 3",
   "language": "python",
   "name": "python3"
  },
  "language_info": {
   "codemirror_mode": {
    "name": "ipython",
    "version": 3
   },
   "file_extension": ".py",
   "mimetype": "text/x-python",
   "name": "python",
   "nbconvert_exporter": "python",
   "pygments_lexer": "ipython3",
   "version": "3.8.2"
  }
 },
 "nbformat": 4,
 "nbformat_minor": 4
}
